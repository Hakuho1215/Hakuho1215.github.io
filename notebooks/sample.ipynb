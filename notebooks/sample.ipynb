{
  "cells": [
    {
      "cell_type": "markdown",
      "metadata": {
        "id": "zUkzYwq8_SRT"
      },
      "source": [
        "防災アプリAdventCalender2024 24日目の記事で作成した深発地震の予測モデル"
      ]
    },
    {
      "cell_type": "markdown",
      "metadata": {
        "id": "n_bmNsKL_SRU"
      },
      "source": [
        "### 事前準備\n",
        "\n",
        "1. リポジトリから学習用パッケージをインストール\n",
        "2. 簡易版学習用データ、予測地点データを用意"
      ]
    },
    {
      "cell_type": "code",
      "execution_count": 1,
      "metadata": {
        "id": "d0XCGRhF_SRU",
        "outputId": "29afe09f-8202-4c17-83df-915dd80aff79",
        "colab": {
          "base_uri": "https://localhost:8080/"
        }
      },
      "outputs": [
        {
          "output_type": "stream",
          "name": "stdout",
          "text": [
            "Collecting git+https://github.com/kotoho7/asid-predict\n",
            "  Cloning https://github.com/kotoho7/asid-predict to /tmp/pip-req-build-gljyadpj\n",
            "  Running command git clone --filter=blob:none --quiet https://github.com/kotoho7/asid-predict /tmp/pip-req-build-gljyadpj\n",
            "  Resolved https://github.com/kotoho7/asid-predict to commit 66cf0a238e64f7600c8819bcde02593a877e47f6\n",
            "  Installing build dependencies ... \u001b[?25l\u001b[?25hdone\n",
            "  Getting requirements to build wheel ... \u001b[?25l\u001b[?25hdone\n",
            "  Preparing metadata (pyproject.toml) ... \u001b[?25l\u001b[?25hdone\n",
            "Requirement already satisfied: keras>=3.0.0 in /usr/local/lib/python3.10/dist-packages (from asid_predict==12.1.0) (3.5.0)\n",
            "Requirement already satisfied: numpy in /usr/local/lib/python3.10/dist-packages (from asid_predict==12.1.0) (1.26.4)\n",
            "Requirement already satisfied: pydantic in /usr/local/lib/python3.10/dist-packages (from asid_predict==12.1.0) (2.10.3)\n",
            "Collecting pykrige (from asid_predict==12.1.0)\n",
            "  Downloading PyKrige-1.7.2-cp310-cp310-manylinux_2_17_x86_64.manylinux2014_x86_64.whl.metadata (8.1 kB)\n",
            "Requirement already satisfied: absl-py in /usr/local/lib/python3.10/dist-packages (from keras>=3.0.0->asid_predict==12.1.0) (1.4.0)\n",
            "Requirement already satisfied: rich in /usr/local/lib/python3.10/dist-packages (from keras>=3.0.0->asid_predict==12.1.0) (13.9.4)\n",
            "Requirement already satisfied: namex in /usr/local/lib/python3.10/dist-packages (from keras>=3.0.0->asid_predict==12.1.0) (0.0.8)\n",
            "Requirement already satisfied: h5py in /usr/local/lib/python3.10/dist-packages (from keras>=3.0.0->asid_predict==12.1.0) (3.12.1)\n",
            "Requirement already satisfied: optree in /usr/local/lib/python3.10/dist-packages (from keras>=3.0.0->asid_predict==12.1.0) (0.13.1)\n",
            "Requirement already satisfied: ml-dtypes in /usr/local/lib/python3.10/dist-packages (from keras>=3.0.0->asid_predict==12.1.0) (0.4.1)\n",
            "Requirement already satisfied: packaging in /usr/local/lib/python3.10/dist-packages (from keras>=3.0.0->asid_predict==12.1.0) (24.2)\n",
            "Requirement already satisfied: annotated-types>=0.6.0 in /usr/local/lib/python3.10/dist-packages (from pydantic->asid_predict==12.1.0) (0.7.0)\n",
            "Requirement already satisfied: pydantic-core==2.27.1 in /usr/local/lib/python3.10/dist-packages (from pydantic->asid_predict==12.1.0) (2.27.1)\n",
            "Requirement already satisfied: typing-extensions>=4.12.2 in /usr/local/lib/python3.10/dist-packages (from pydantic->asid_predict==12.1.0) (4.12.2)\n",
            "Requirement already satisfied: scipy<2,>=1.1.0 in /usr/local/lib/python3.10/dist-packages (from pykrige->asid_predict==12.1.0) (1.13.1)\n",
            "Requirement already satisfied: markdown-it-py>=2.2.0 in /usr/local/lib/python3.10/dist-packages (from rich->keras>=3.0.0->asid_predict==12.1.0) (3.0.0)\n",
            "Requirement already satisfied: pygments<3.0.0,>=2.13.0 in /usr/local/lib/python3.10/dist-packages (from rich->keras>=3.0.0->asid_predict==12.1.0) (2.18.0)\n",
            "Requirement already satisfied: mdurl~=0.1 in /usr/local/lib/python3.10/dist-packages (from markdown-it-py>=2.2.0->rich->keras>=3.0.0->asid_predict==12.1.0) (0.1.2)\n",
            "Downloading PyKrige-1.7.2-cp310-cp310-manylinux_2_17_x86_64.manylinux2014_x86_64.whl (909 kB)\n",
            "\u001b[2K   \u001b[90m━━━━━━━━━━━━━━━━━━━━━━━━━━━━━━━━━━━━━━━━\u001b[0m \u001b[32m909.7/909.7 kB\u001b[0m \u001b[31m18.5 MB/s\u001b[0m eta \u001b[36m0:00:00\u001b[0m\n",
            "\u001b[?25hBuilding wheels for collected packages: asid_predict\n",
            "  Building wheel for asid_predict (pyproject.toml) ... \u001b[?25l\u001b[?25hdone\n",
            "  Created wheel for asid_predict: filename=asid_predict-12.1.0-py3-none-any.whl size=24239 sha256=3c465d6dbe0bb769f15e21397a61ca98fa5f30f5349cab161583940490c187a1\n",
            "  Stored in directory: /tmp/pip-ephem-wheel-cache-rl1ayogq/wheels/d7/df/93/7bf53d2d54bbc919ad4687c236847fc24086ab43ff5eacb9ae\n",
            "Successfully built asid_predict\n",
            "Installing collected packages: pykrige, asid_predict\n",
            "Successfully installed asid_predict-12.1.0 pykrige-1.7.2\n"
          ]
        }
      ],
      "source": [
        "%pip install git+https://github.com/kotoho7/asid-predict"
      ]
    },
    {
      "cell_type": "code",
      "execution_count": 2,
      "metadata": {
        "id": "oglmMGnK_SRV",
        "outputId": "b485a0be-5106-4199-c157-f9eaabaa016e",
        "colab": {
          "base_uri": "https://localhost:8080/"
        }
      },
      "outputs": [
        {
          "output_type": "stream",
          "name": "stdout",
          "text": [
            "--2025-01-05 13:12:57--  https://gist.githubusercontent.com/kotoho7/e1388671e5f990585e921f640b708872/raw/train_data_sample.json\n",
            "Resolving gist.githubusercontent.com (gist.githubusercontent.com)... 185.199.108.133, 185.199.109.133, 185.199.110.133, ...\n",
            "Connecting to gist.githubusercontent.com (gist.githubusercontent.com)|185.199.108.133|:443... connected.\n",
            "HTTP request sent, awaiting response... 200 OK\n",
            "Length: 724081 (707K) [text/plain]\n",
            "Saving to: ‘./data/train_data.json’\n",
            "\n",
            "./data/train_data.j 100%[===================>] 707.11K  --.-KB/s    in 0.04s   \n",
            "\n",
            "2025-01-05 13:12:57 (19.1 MB/s) - ‘./data/train_data.json’ saved [724081/724081]\n",
            "\n",
            "--2025-01-05 13:12:57--  https://gist.githubusercontent.com/kotoho7/e1388671e5f990585e921f640b708872/raw/kik.json\n",
            "Resolving gist.githubusercontent.com (gist.githubusercontent.com)... 185.199.108.133, 185.199.109.133, 185.199.110.133, ...\n",
            "Connecting to gist.githubusercontent.com (gist.githubusercontent.com)|185.199.108.133|:443... connected.\n",
            "HTTP request sent, awaiting response... 200 OK\n",
            "Length: 39370 (38K) [text/plain]\n",
            "Saving to: ‘./data/predict.json’\n",
            "\n",
            "./data/predict.json 100%[===================>]  38.45K  --.-KB/s    in 0.008s  \n",
            "\n",
            "2025-01-05 13:12:57 (4.50 MB/s) - ‘./data/predict.json’ saved [39370/39370]\n",
            "\n"
          ]
        }
      ],
      "source": [
        "!mkdir -p ./data ./out\n",
        "!wget https://gist.githubusercontent.com/kotoho7/e1388671e5f990585e921f640b708872/raw/train_data_sample.json -O ./data/train_data.json\n",
        "!wget https://gist.githubusercontent.com/kotoho7/e1388671e5f990585e921f640b708872/raw/kik.json -O ./data/predict.json"
      ]
    },
    {
      "cell_type": "markdown",
      "metadata": {
        "id": "oEh11TV8_SRV"
      },
      "source": [
        "### モデルの学習"
      ]
    },
    {
      "cell_type": "code",
      "execution_count": null,
      "metadata": {
        "id": "ZMZ_HkE__SRV"
      },
      "outputs": [],
      "source": [
        "from asid_predict import execute_training_process\n",
        "\n",
        "# モデルの学習\n",
        "model = execute_training_process(\n",
        "    train_json_path=\"./data/train_data.json\", # 学習用データのパス\n",
        "    save_path=\"./out\", # モデルの保存先\n",
        "    target_is_pasific_plate=True, # 太平洋プレートの地震を学習\n",
        "    epochs=20, # エポック数\n",
        "    batch_size=64, # バッチサイズ\n",
        ")"
      ]
    },
    {
      "cell_type": "markdown",
      "metadata": {
        "id": "pXv01Eur_SRV"
      },
      "source": [
        "### 学習済みモデルを使って予想震度を計算"
      ]
    },
    {
      "cell_type": "code",
      "execution_count": null,
      "metadata": {
        "id": "H8tT8ZYO_SRW"
      },
      "outputs": [],
      "source": [
        "import json\n",
        "\n",
        "from asid_predict.prediction import predict_intensities\n",
        "from asid_predict.dataclass import Earthquake, ObservationPoint\n",
        "\n",
        "# 予測地点リスト\n",
        "with open(\"./data/predict.json\") as f:\n",
        "    dict = json.load(f)\n",
        "    stations = [ObservationPoint(**d) for d in dict]\n",
        "\n",
        "# 震源情報\n",
        "earthquake = Earthquake(\n",
        "    lat=33.840,\n",
        "    lon=137.423,\n",
        "    depth=362,\n",
        "    magnitude=6.4,\n",
        ")\n",
        "\n",
        "# 予測を実行\n",
        "intensities = predict_intensities(\n",
        "    model=model,\n",
        "    targets=stations,\n",
        "    eq=earthquake,\n",
        ")"
      ]
    },
    {
      "cell_type": "markdown",
      "metadata": {
        "id": "rqpYLrR2_SRW"
      },
      "source": [
        "### 予測結果の表示"
      ]
    },
    {
      "cell_type": "code",
      "execution_count": null,
      "metadata": {
        "id": "0UBSMUnI_SRW"
      },
      "outputs": [],
      "source": [
        "import numpy as np\n",
        "import matplotlib.pyplot as plt\n",
        "\n",
        "x, y, c = np.array([s.lon for s in stations]), np.array([s.lat for s in stations]), np.array(intensities)\n",
        "sorted_indices = np.argsort(c)\n",
        "\n",
        "# 散布図を作成\n",
        "plt.scatter(x[sorted_indices], y[sorted_indices], c=c[sorted_indices], cmap=\"jet\", vmin=-3, vmax=7)\n",
        "plt.colorbar(label=\"Seismic Intensity\")\n",
        "plt.scatter(earthquake.lon, earthquake.lat, color=\"red\", marker=\"*\", s=200, label=\"Epicenter\")\n",
        "plt.title(f\"Earthquake at ({earthquake.lat}, {earthquake.lon}), Depth: {earthquake.depth} km, Magnitude: {earthquake.magnitude}\")\n",
        "plt.xlim(128, 146)\n",
        "plt.ylim(30, 46)\n",
        "plt.legend()\n",
        "plt.show()"
      ]
    }
  ],
  "metadata": {
    "kernelspec": {
      "display_name": "Python 3",
      "name": "python3"
    },
    "language_info": {
      "name": "python"
    },
    "colab": {
      "provenance": [],
      "collapsed_sections": [
        "n_bmNsKL_SRU"
      ],
      "gpuType": "T4"
    },
    "accelerator": "GPU"
  },
  "nbformat": 4,
  "nbformat_minor": 0
}